{
 "cells": [
  {
   "cell_type": "code",
   "execution_count": 1,
   "outputs": [],
   "source": [
    "import tensorflow as tf\n",
    "from keras.preprocessing.image import ImageDataGenerator\n"
   ],
   "metadata": {
    "collapsed": false,
    "ExecuteTime": {
     "end_time": "2023-06-03T13:12:15.774548Z",
     "start_time": "2023-06-03T13:12:12.645363Z"
    }
   }
  },
  {
   "cell_type": "code",
   "execution_count": 2,
   "outputs": [
    {
     "data": {
      "text/plain": "'2.13.0-rc1'"
     },
     "execution_count": 2,
     "metadata": {},
     "output_type": "execute_result"
    }
   ],
   "source": [
    "tf.__version__\n"
   ],
   "metadata": {
    "collapsed": false,
    "ExecuteTime": {
     "end_time": "2023-06-03T13:12:15.779484Z",
     "start_time": "2023-06-03T13:12:15.776422Z"
    }
   }
  },
  {
   "cell_type": "markdown",
   "source": [
    "# preprocess training set"
   ],
   "metadata": {
    "collapsed": false
   }
  },
  {
   "cell_type": "code",
   "execution_count": 3,
   "outputs": [
    {
     "name": "stdout",
     "output_type": "stream",
     "text": [
      "Found 8000 images belonging to 2 classes.\n"
     ]
    }
   ],
   "source": [
    "train_datagen = ImageDataGenerator(rescale = 1./255,\n",
    "                                   shear_range = 0.2,\n",
    "                                   zoom_range = 0.2,\n",
    "                                   horizontal_flip = True)\n",
    "training_set = train_datagen.flow_from_directory('CNN/dataset/training_set',\n",
    "     target_size = (64, 64),\n",
    "     batch_size = 32,\n",
    "     class_mode = 'binary')"
   ],
   "metadata": {
    "collapsed": false,
    "ExecuteTime": {
     "end_time": "2023-06-03T13:12:15.926444Z",
     "start_time": "2023-06-03T13:12:15.779694Z"
    }
   }
  },
  {
   "cell_type": "markdown",
   "source": [
    "# preprocess test set"
   ],
   "metadata": {
    "collapsed": false
   }
  },
  {
   "cell_type": "code",
   "execution_count": 4,
   "outputs": [
    {
     "name": "stdout",
     "output_type": "stream",
     "text": [
      "Found 2000 images belonging to 2 classes.\n"
     ]
    }
   ],
   "source": [
    "test_datagen = ImageDataGenerator(rescale = 1./255)\n",
    "test_set = test_datagen.flow_from_directory('CNN/dataset/test_set',\n",
    "    target_size = (64, 64),\n",
    "    batch_size = 32,\n",
    "    class_mode = 'binary')"
   ],
   "metadata": {
    "collapsed": false,
    "ExecuteTime": {
     "end_time": "2023-06-03T13:12:15.972857Z",
     "start_time": "2023-06-03T13:12:15.927487Z"
    }
   }
  },
  {
   "cell_type": "markdown",
   "source": [],
   "metadata": {
    "collapsed": false
   }
  },
  {
   "cell_type": "markdown",
   "source": [
    "# build CNN"
   ],
   "metadata": {
    "collapsed": false
   }
  },
  {
   "cell_type": "code",
   "execution_count": 5,
   "outputs": [],
   "source": [
    "cnn = tf.keras.models.Sequential()"
   ],
   "metadata": {
    "collapsed": false,
    "ExecuteTime": {
     "end_time": "2023-06-03T13:12:16.011313Z",
     "start_time": "2023-06-03T13:12:15.971649Z"
    }
   }
  },
  {
   "cell_type": "markdown",
   "source": [
    "# convolution\n",
    "64 x 64 image size x 3 full color"
   ],
   "metadata": {
    "collapsed": false
   }
  },
  {
   "cell_type": "code",
   "execution_count": 6,
   "outputs": [],
   "source": [
    "cnn.add(tf.keras.layers.Conv2D(filters=32, kernel_size=3, activation='relu', input_shape=[64, 64, 3]))"
   ],
   "metadata": {
    "collapsed": false,
    "ExecuteTime": {
     "end_time": "2023-06-03T13:12:16.015907Z",
     "start_time": "2023-06-03T13:12:16.001354Z"
    }
   }
  },
  {
   "cell_type": "markdown",
   "source": [
    "# pooling\n",
    "2 x 2 pool size commonly used\n",
    "stride 2 is shift 2 pixels at a time"
   ],
   "metadata": {
    "collapsed": false
   }
  },
  {
   "cell_type": "code",
   "execution_count": 7,
   "outputs": [],
   "source": [
    "cnn.add(tf.keras.layers.MaxPool2D(pool_size=2, strides=2))"
   ],
   "metadata": {
    "collapsed": false,
    "ExecuteTime": {
     "end_time": "2023-06-03T13:12:16.019020Z",
     "start_time": "2023-06-03T13:12:16.015239Z"
    }
   }
  },
  {
   "cell_type": "markdown",
   "source": [
    "# add second convolutional layer\n",
    "same as above, but dont need input shape because it is already defined"
   ],
   "metadata": {
    "collapsed": false
   }
  },
  {
   "cell_type": "code",
   "execution_count": 8,
   "outputs": [],
   "source": [
    "cnn.add(tf.keras.layers.Conv2D(filters=32, kernel_size=3, activation='relu'))\n",
    "cnn.add(tf.keras.layers.MaxPool2D(pool_size=2, strides=2))\n"
   ],
   "metadata": {
    "collapsed": false,
    "ExecuteTime": {
     "end_time": "2023-06-03T13:12:16.026739Z",
     "start_time": "2023-06-03T13:12:16.020216Z"
    }
   }
  },
  {
   "cell_type": "markdown",
   "source": [
    "# flattening"
   ],
   "metadata": {
    "collapsed": false
   }
  },
  {
   "cell_type": "code",
   "execution_count": 9,
   "outputs": [],
   "source": [
    "cnn.add(tf.keras.layers.Flatten())"
   ],
   "metadata": {
    "collapsed": false,
    "ExecuteTime": {
     "end_time": "2023-06-03T13:12:16.042286Z",
     "start_time": "2023-06-03T13:12:16.028770Z"
    }
   }
  },
  {
   "cell_type": "markdown",
   "source": [
    "# full connection\n",
    "use activation function relu for hidden layer until output layer"
   ],
   "metadata": {
    "collapsed": false
   }
  },
  {
   "cell_type": "code",
   "execution_count": 10,
   "outputs": [],
   "source": [
    "cnn.add(tf.keras.layers.Dense(units=128, activation='relu'))"
   ],
   "metadata": {
    "collapsed": false,
    "ExecuteTime": {
     "end_time": "2023-06-03T13:12:16.044972Z",
     "start_time": "2023-06-03T13:12:16.036152Z"
    }
   }
  },
  {
   "cell_type": "markdown",
   "source": [
    "# output layer\n",
    "sigmoid activation function for binary outcome\n",
    "softmax for more than 2 outcomes"
   ],
   "metadata": {
    "collapsed": false
   }
  },
  {
   "cell_type": "code",
   "execution_count": 11,
   "outputs": [],
   "source": [
    "cnn.add(tf.keras.layers.Dense(units=1, activation='sigmoid'))"
   ],
   "metadata": {
    "collapsed": false,
    "ExecuteTime": {
     "end_time": "2023-06-03T13:12:16.055344Z",
     "start_time": "2023-06-03T13:12:16.045973Z"
    }
   }
  },
  {
   "cell_type": "markdown",
   "source": [
    "# compile CNN"
   ],
   "metadata": {
    "collapsed": false
   }
  },
  {
   "cell_type": "code",
   "execution_count": 12,
   "outputs": [],
   "source": [
    "cnn.compile(optimizer = 'adam', loss = 'binary_crossentropy', metrics = ['accuracy'])"
   ],
   "metadata": {
    "collapsed": false,
    "ExecuteTime": {
     "end_time": "2023-06-03T13:12:16.057635Z",
     "start_time": "2023-06-03T13:12:16.053728Z"
    }
   }
  },
  {
   "cell_type": "markdown",
   "source": [
    "# train CNN on training set and evaluate on test set\n",
    "from the very first set of training data and test data"
   ],
   "metadata": {
    "collapsed": false
   }
  },
  {
   "cell_type": "code",
   "execution_count": 13,
   "outputs": [
    {
     "name": "stdout",
     "output_type": "stream",
     "text": [
      "Epoch 1/10\n",
      "250/250 [==============================] - 18s 71ms/step - loss: 0.6721 - accuracy: 0.5847 - val_loss: 0.6224 - val_accuracy: 0.6520\n",
      "Epoch 2/10\n",
      "250/250 [==============================] - 18s 71ms/step - loss: 0.6079 - accuracy: 0.6712 - val_loss: 0.5764 - val_accuracy: 0.6960\n",
      "Epoch 3/10\n",
      "250/250 [==============================] - 18s 71ms/step - loss: 0.5673 - accuracy: 0.7032 - val_loss: 0.5373 - val_accuracy: 0.7275\n",
      "Epoch 4/10\n",
      "250/250 [==============================] - 17s 70ms/step - loss: 0.5415 - accuracy: 0.7240 - val_loss: 0.5099 - val_accuracy: 0.7505\n",
      "Epoch 5/10\n",
      "250/250 [==============================] - 19s 77ms/step - loss: 0.5108 - accuracy: 0.7495 - val_loss: 0.5038 - val_accuracy: 0.7585\n",
      "Epoch 6/10\n",
      "250/250 [==============================] - 18s 72ms/step - loss: 0.4980 - accuracy: 0.7586 - val_loss: 0.5354 - val_accuracy: 0.7445\n",
      "Epoch 7/10\n",
      "250/250 [==============================] - 16s 65ms/step - loss: 0.4718 - accuracy: 0.7725 - val_loss: 0.4877 - val_accuracy: 0.7750\n",
      "Epoch 8/10\n",
      "250/250 [==============================] - 16s 65ms/step - loss: 0.4578 - accuracy: 0.7812 - val_loss: 0.4678 - val_accuracy: 0.7885\n",
      "Epoch 9/10\n",
      "250/250 [==============================] - 18s 72ms/step - loss: 0.4463 - accuracy: 0.7885 - val_loss: 0.4711 - val_accuracy: 0.7805\n",
      "Epoch 10/10\n",
      "250/250 [==============================] - 18s 71ms/step - loss: 0.4319 - accuracy: 0.7991 - val_loss: 0.4786 - val_accuracy: 0.7845\n"
     ]
    },
    {
     "data": {
      "text/plain": "<keras.src.callbacks.History at 0x1724f7990>"
     },
     "execution_count": 13,
     "metadata": {},
     "output_type": "execute_result"
    }
   ],
   "source": [
    "cnn.fit(x = training_set, validation_data = test_set, epochs = 10)"
   ],
   "metadata": {
    "collapsed": false,
    "ExecuteTime": {
     "end_time": "2023-06-03T13:15:12.737610Z",
     "start_time": "2023-06-03T13:12:16.059124Z"
    }
   }
  },
  {
   "cell_type": "markdown",
   "source": [
    "# Making a single prediction\n",
    "same size, convert to array, add extra dimension for batch size, dims for dimensions, our \"batch\" is at 0 dimension (first)"
   ],
   "metadata": {
    "collapsed": false
   }
  },
  {
   "cell_type": "code",
   "execution_count": 28,
   "outputs": [
    {
     "name": "stdout",
     "output_type": "stream",
     "text": [
      "1/1 [==============================] - 0s 12ms/step\n"
     ]
    }
   ],
   "source": [
    "import numpy as np\n",
    "from keras.preprocessing import image\n",
    "test_image = image.load_img('CNN/dataset/single_prediction/cat_or_dog_1.jpg', target_size = (64, 64))\n",
    "test_image = image.img_to_array(test_image) # convert to 3D array\n",
    "test_image = np.expand_dims(test_image, axis = 0) # add extra dimension for batch size\n",
    "result = cnn.predict(test_image/255.0)\n",
    "training_set.class_indices\n",
    "if result[0][0] > 0.5:\n",
    "    prediction = 'dog'\n",
    "else:\n",
    "    prediction = 'cat'"
   ],
   "metadata": {
    "collapsed": false,
    "ExecuteTime": {
     "end_time": "2023-06-03T13:29:15.155654Z",
     "start_time": "2023-06-03T13:29:15.108581Z"
    }
   }
  },
  {
   "cell_type": "code",
   "execution_count": 29,
   "outputs": [
    {
     "data": {
      "text/plain": "'dog'"
     },
     "execution_count": 29,
     "metadata": {},
     "output_type": "execute_result"
    }
   ],
   "source": [
    "prediction\n"
   ],
   "metadata": {
    "collapsed": false,
    "ExecuteTime": {
     "end_time": "2023-06-03T13:29:16.004874Z",
     "start_time": "2023-06-03T13:29:15.998578Z"
    }
   }
  },
  {
   "cell_type": "code",
   "execution_count": null,
   "outputs": [],
   "source": [],
   "metadata": {
    "collapsed": false
   }
  }
 ],
 "metadata": {
  "kernelspec": {
   "display_name": "Python 3",
   "language": "python",
   "name": "python3"
  },
  "language_info": {
   "codemirror_mode": {
    "name": "ipython",
    "version": 2
   },
   "file_extension": ".py",
   "mimetype": "text/x-python",
   "name": "python",
   "nbconvert_exporter": "python",
   "pygments_lexer": "ipython2",
   "version": "2.7.6"
  }
 },
 "nbformat": 4,
 "nbformat_minor": 0
}
